{
 "cells": [
  {
   "cell_type": "code",
   "execution_count": 1,
   "id": "c5a42eff",
   "metadata": {},
   "outputs": [],
   "source": [
    "import pandas as pd\n",
    "import numpy as np\n",
    "import datetime as dt"
   ]
  },
  {
   "cell_type": "markdown",
   "id": "511d9a15",
   "metadata": {},
   "source": [
    "### Tempearture concatenation for each station or point of study (1985-2020)"
   ]
  },
  {
   "cell_type": "code",
   "execution_count": 2,
   "id": "d2a90206",
   "metadata": {},
   "outputs": [],
   "source": [
    "dfa = pd.read_csv(\"sst_85.csv\")\n",
    "dfb = pd.read_csv(\"sst_90.csv\")\n",
    "dfc = pd.read_csv(\"sst_95.csv\")\n",
    "dfd = pd.read_csv(\"sst_00.csv\")\n",
    "dfe = pd.read_csv(\"sst_05.csv\")\n",
    "dff = pd.read_csv(\"sst_10.csv\")\n",
    "dfg = pd.read_csv(\"sst_15.csv\")\n",
    "dfh = pd.read_csv(\"sst_20.csv\")\n"
   ]
  },
  {
   "cell_type": "code",
   "execution_count": 21,
   "id": "93070f67",
   "metadata": {},
   "outputs": [
    {
     "data": {
      "text/html": [
       "<div>\n",
       "<style scoped>\n",
       "    .dataframe tbody tr th:only-of-type {\n",
       "        vertical-align: middle;\n",
       "    }\n",
       "\n",
       "    .dataframe tbody tr th {\n",
       "        vertical-align: top;\n",
       "    }\n",
       "\n",
       "    .dataframe thead th {\n",
       "        text-align: right;\n",
       "    }\n",
       "</style>\n",
       "<table border=\"1\" class=\"dataframe\">\n",
       "  <thead>\n",
       "    <tr style=\"text-align: right;\">\n",
       "      <th></th>\n",
       "      <th>Unnamed: 0</th>\n",
       "      <th>time</th>\n",
       "      <th>sst1</th>\n",
       "      <th>sst2</th>\n",
       "      <th>sst3</th>\n",
       "      <th>sst4</th>\n",
       "      <th>sst5</th>\n",
       "      <th>sst6</th>\n",
       "      <th>sst7</th>\n",
       "      <th>sst8</th>\n",
       "      <th>sst9</th>\n",
       "      <th>sst10</th>\n",
       "      <th>sst11</th>\n",
       "    </tr>\n",
       "  </thead>\n",
       "  <tbody>\n",
       "    <tr>\n",
       "      <th>0</th>\n",
       "      <td>0</td>\n",
       "      <td>1985-01-01</td>\n",
       "      <td>26.59</td>\n",
       "      <td>26.59</td>\n",
       "      <td>26.59</td>\n",
       "      <td>26.59</td>\n",
       "      <td>26.85</td>\n",
       "      <td>26.85</td>\n",
       "      <td>26.59</td>\n",
       "      <td>26.85</td>\n",
       "      <td>26.85</td>\n",
       "      <td>26.59</td>\n",
       "      <td>26.85</td>\n",
       "    </tr>\n",
       "    <tr>\n",
       "      <th>1</th>\n",
       "      <td>1</td>\n",
       "      <td>1985-01-02</td>\n",
       "      <td>26.30</td>\n",
       "      <td>26.30</td>\n",
       "      <td>26.30</td>\n",
       "      <td>26.30</td>\n",
       "      <td>26.80</td>\n",
       "      <td>26.80</td>\n",
       "      <td>26.30</td>\n",
       "      <td>26.80</td>\n",
       "      <td>26.80</td>\n",
       "      <td>26.30</td>\n",
       "      <td>26.80</td>\n",
       "    </tr>\n",
       "    <tr>\n",
       "      <th>2</th>\n",
       "      <td>2</td>\n",
       "      <td>1985-01-03</td>\n",
       "      <td>26.34</td>\n",
       "      <td>26.34</td>\n",
       "      <td>26.34</td>\n",
       "      <td>26.34</td>\n",
       "      <td>26.86</td>\n",
       "      <td>26.86</td>\n",
       "      <td>26.34</td>\n",
       "      <td>26.86</td>\n",
       "      <td>26.86</td>\n",
       "      <td>26.34</td>\n",
       "      <td>26.86</td>\n",
       "    </tr>\n",
       "    <tr>\n",
       "      <th>3</th>\n",
       "      <td>3</td>\n",
       "      <td>1985-01-04</td>\n",
       "      <td>27.63</td>\n",
       "      <td>27.63</td>\n",
       "      <td>27.63</td>\n",
       "      <td>27.63</td>\n",
       "      <td>27.62</td>\n",
       "      <td>27.62</td>\n",
       "      <td>27.63</td>\n",
       "      <td>27.62</td>\n",
       "      <td>27.62</td>\n",
       "      <td>27.63</td>\n",
       "      <td>27.62</td>\n",
       "    </tr>\n",
       "    <tr>\n",
       "      <th>4</th>\n",
       "      <td>4</td>\n",
       "      <td>1985-01-05</td>\n",
       "      <td>27.90</td>\n",
       "      <td>27.90</td>\n",
       "      <td>27.90</td>\n",
       "      <td>27.90</td>\n",
       "      <td>27.83</td>\n",
       "      <td>27.83</td>\n",
       "      <td>27.90</td>\n",
       "      <td>27.83</td>\n",
       "      <td>27.83</td>\n",
       "      <td>27.90</td>\n",
       "      <td>27.83</td>\n",
       "    </tr>\n",
       "    <tr>\n",
       "      <th>5</th>\n",
       "      <td>5</td>\n",
       "      <td>1985-01-06</td>\n",
       "      <td>27.17</td>\n",
       "      <td>27.17</td>\n",
       "      <td>27.17</td>\n",
       "      <td>27.17</td>\n",
       "      <td>27.16</td>\n",
       "      <td>27.16</td>\n",
       "      <td>27.17</td>\n",
       "      <td>27.16</td>\n",
       "      <td>27.16</td>\n",
       "      <td>27.17</td>\n",
       "      <td>27.16</td>\n",
       "    </tr>\n",
       "    <tr>\n",
       "      <th>6</th>\n",
       "      <td>6</td>\n",
       "      <td>1985-01-07</td>\n",
       "      <td>26.57</td>\n",
       "      <td>26.57</td>\n",
       "      <td>26.57</td>\n",
       "      <td>26.57</td>\n",
       "      <td>26.69</td>\n",
       "      <td>26.69</td>\n",
       "      <td>26.57</td>\n",
       "      <td>26.69</td>\n",
       "      <td>26.69</td>\n",
       "      <td>26.57</td>\n",
       "      <td>26.69</td>\n",
       "    </tr>\n",
       "    <tr>\n",
       "      <th>7</th>\n",
       "      <td>7</td>\n",
       "      <td>1985-01-08</td>\n",
       "      <td>26.69</td>\n",
       "      <td>26.69</td>\n",
       "      <td>26.69</td>\n",
       "      <td>26.69</td>\n",
       "      <td>26.79</td>\n",
       "      <td>26.79</td>\n",
       "      <td>26.69</td>\n",
       "      <td>26.79</td>\n",
       "      <td>26.79</td>\n",
       "      <td>26.69</td>\n",
       "      <td>26.79</td>\n",
       "    </tr>\n",
       "    <tr>\n",
       "      <th>8</th>\n",
       "      <td>8</td>\n",
       "      <td>1985-01-09</td>\n",
       "      <td>26.51</td>\n",
       "      <td>26.51</td>\n",
       "      <td>26.51</td>\n",
       "      <td>26.51</td>\n",
       "      <td>26.63</td>\n",
       "      <td>26.63</td>\n",
       "      <td>26.51</td>\n",
       "      <td>26.63</td>\n",
       "      <td>26.63</td>\n",
       "      <td>26.51</td>\n",
       "      <td>26.63</td>\n",
       "    </tr>\n",
       "    <tr>\n",
       "      <th>9</th>\n",
       "      <td>9</td>\n",
       "      <td>1985-01-10</td>\n",
       "      <td>26.43</td>\n",
       "      <td>26.43</td>\n",
       "      <td>26.43</td>\n",
       "      <td>26.43</td>\n",
       "      <td>26.50</td>\n",
       "      <td>26.50</td>\n",
       "      <td>26.43</td>\n",
       "      <td>26.50</td>\n",
       "      <td>26.50</td>\n",
       "      <td>26.43</td>\n",
       "      <td>26.50</td>\n",
       "    </tr>\n",
       "    <tr>\n",
       "      <th>10</th>\n",
       "      <td>10</td>\n",
       "      <td>1985-01-11</td>\n",
       "      <td>26.43</td>\n",
       "      <td>26.43</td>\n",
       "      <td>26.43</td>\n",
       "      <td>26.43</td>\n",
       "      <td>26.48</td>\n",
       "      <td>26.48</td>\n",
       "      <td>26.43</td>\n",
       "      <td>26.48</td>\n",
       "      <td>26.48</td>\n",
       "      <td>26.43</td>\n",
       "      <td>26.48</td>\n",
       "    </tr>\n",
       "    <tr>\n",
       "      <th>11</th>\n",
       "      <td>11</td>\n",
       "      <td>1985-01-12</td>\n",
       "      <td>26.43</td>\n",
       "      <td>26.43</td>\n",
       "      <td>26.43</td>\n",
       "      <td>26.43</td>\n",
       "      <td>26.45</td>\n",
       "      <td>26.45</td>\n",
       "      <td>26.43</td>\n",
       "      <td>26.45</td>\n",
       "      <td>26.45</td>\n",
       "      <td>26.43</td>\n",
       "      <td>26.45</td>\n",
       "    </tr>\n",
       "    <tr>\n",
       "      <th>12</th>\n",
       "      <td>12</td>\n",
       "      <td>1985-01-13</td>\n",
       "      <td>26.38</td>\n",
       "      <td>26.38</td>\n",
       "      <td>26.38</td>\n",
       "      <td>26.38</td>\n",
       "      <td>26.39</td>\n",
       "      <td>26.39</td>\n",
       "      <td>26.38</td>\n",
       "      <td>26.39</td>\n",
       "      <td>26.39</td>\n",
       "      <td>26.38</td>\n",
       "      <td>26.39</td>\n",
       "    </tr>\n",
       "  </tbody>\n",
       "</table>\n",
       "</div>"
      ],
      "text/plain": [
       "    Unnamed: 0        time   sst1   sst2   sst3   sst4   sst5   sst6   sst7  \\\n",
       "0            0  1985-01-01  26.59  26.59  26.59  26.59  26.85  26.85  26.59   \n",
       "1            1  1985-01-02  26.30  26.30  26.30  26.30  26.80  26.80  26.30   \n",
       "2            2  1985-01-03  26.34  26.34  26.34  26.34  26.86  26.86  26.34   \n",
       "3            3  1985-01-04  27.63  27.63  27.63  27.63  27.62  27.62  27.63   \n",
       "4            4  1985-01-05  27.90  27.90  27.90  27.90  27.83  27.83  27.90   \n",
       "5            5  1985-01-06  27.17  27.17  27.17  27.17  27.16  27.16  27.17   \n",
       "6            6  1985-01-07  26.57  26.57  26.57  26.57  26.69  26.69  26.57   \n",
       "7            7  1985-01-08  26.69  26.69  26.69  26.69  26.79  26.79  26.69   \n",
       "8            8  1985-01-09  26.51  26.51  26.51  26.51  26.63  26.63  26.51   \n",
       "9            9  1985-01-10  26.43  26.43  26.43  26.43  26.50  26.50  26.43   \n",
       "10          10  1985-01-11  26.43  26.43  26.43  26.43  26.48  26.48  26.43   \n",
       "11          11  1985-01-12  26.43  26.43  26.43  26.43  26.45  26.45  26.43   \n",
       "12          12  1985-01-13  26.38  26.38  26.38  26.38  26.39  26.39  26.38   \n",
       "\n",
       "     sst8   sst9  sst10  sst11  \n",
       "0   26.85  26.85  26.59  26.85  \n",
       "1   26.80  26.80  26.30  26.80  \n",
       "2   26.86  26.86  26.34  26.86  \n",
       "3   27.62  27.62  27.63  27.62  \n",
       "4   27.83  27.83  27.90  27.83  \n",
       "5   27.16  27.16  27.17  27.16  \n",
       "6   26.69  26.69  26.57  26.69  \n",
       "7   26.79  26.79  26.69  26.79  \n",
       "8   26.63  26.63  26.51  26.63  \n",
       "9   26.50  26.50  26.43  26.50  \n",
       "10  26.48  26.48  26.43  26.48  \n",
       "11  26.45  26.45  26.43  26.45  \n",
       "12  26.39  26.39  26.38  26.39  "
      ]
     },
     "execution_count": 21,
     "metadata": {},
     "output_type": "execute_result"
    }
   ],
   "source": [
    "dfa"
   ]
  },
  {
   "cell_type": "markdown",
   "id": "66cd761b",
   "metadata": {},
   "source": [
    "**Station1** Sea Surface Temperature (SST) every 5 years from 1985 to 2020"
   ]
  },
  {
   "cell_type": "code",
   "execution_count": 4,
   "id": "a7f911b2",
   "metadata": {},
   "outputs": [],
   "source": [
    "a = dfa[[\"time\", \"sst1\"]]"
   ]
  },
  {
   "cell_type": "code",
   "execution_count": 5,
   "id": "eb9ebc16",
   "metadata": {},
   "outputs": [],
   "source": [
    "b = dfb[[\"time\", \"sst1\"]]"
   ]
  },
  {
   "cell_type": "code",
   "execution_count": 6,
   "id": "f577719c",
   "metadata": {},
   "outputs": [],
   "source": [
    "c = dfc[[\"time\", \"sst1\"]]"
   ]
  },
  {
   "cell_type": "code",
   "execution_count": 7,
   "id": "d6cce893",
   "metadata": {},
   "outputs": [],
   "source": [
    "d = dfd[[\"time\", \"sst1\"]]"
   ]
  },
  {
   "cell_type": "code",
   "execution_count": 8,
   "id": "1a32cf28",
   "metadata": {},
   "outputs": [],
   "source": [
    "e = dfe[[\"time\", \"sst1\"]]"
   ]
  },
  {
   "cell_type": "code",
   "execution_count": 9,
   "id": "1d086602",
   "metadata": {},
   "outputs": [],
   "source": [
    "f = dff[[\"time\", \"sst1\"]]"
   ]
  },
  {
   "cell_type": "code",
   "execution_count": 10,
   "id": "7e383fb1",
   "metadata": {},
   "outputs": [],
   "source": [
    "g = dfg[[\"time\", \"sst1\"]]"
   ]
  },
  {
   "cell_type": "code",
   "execution_count": 11,
   "id": "8e9d46c3",
   "metadata": {},
   "outputs": [],
   "source": [
    "h = dfh[[\"time\", \"sst1\"]]"
   ]
  },
  {
   "cell_type": "code",
   "execution_count": 15,
   "id": "853eff12",
   "metadata": {},
   "outputs": [],
   "source": [
    "df1= pd.concat([a, b, c, d, e, f, g, h], sort=False)"
   ]
  },
  {
   "cell_type": "code",
   "execution_count": 16,
   "id": "dfa87521",
   "metadata": {},
   "outputs": [
    {
     "data": {
      "text/html": [
       "<div>\n",
       "<style scoped>\n",
       "    .dataframe tbody tr th:only-of-type {\n",
       "        vertical-align: middle;\n",
       "    }\n",
       "\n",
       "    .dataframe tbody tr th {\n",
       "        vertical-align: top;\n",
       "    }\n",
       "\n",
       "    .dataframe thead th {\n",
       "        text-align: right;\n",
       "    }\n",
       "</style>\n",
       "<table border=\"1\" class=\"dataframe\">\n",
       "  <thead>\n",
       "    <tr style=\"text-align: right;\">\n",
       "      <th></th>\n",
       "      <th>time</th>\n",
       "      <th>sst1</th>\n",
       "    </tr>\n",
       "  </thead>\n",
       "  <tbody>\n",
       "    <tr>\n",
       "      <th>0</th>\n",
       "      <td>1985-01-01</td>\n",
       "      <td>26.59</td>\n",
       "    </tr>\n",
       "    <tr>\n",
       "      <th>1</th>\n",
       "      <td>1985-01-02</td>\n",
       "      <td>26.30</td>\n",
       "    </tr>\n",
       "    <tr>\n",
       "      <th>2</th>\n",
       "      <td>1985-01-03</td>\n",
       "      <td>26.34</td>\n",
       "    </tr>\n",
       "    <tr>\n",
       "      <th>3</th>\n",
       "      <td>1985-01-04</td>\n",
       "      <td>27.63</td>\n",
       "    </tr>\n",
       "    <tr>\n",
       "      <th>4</th>\n",
       "      <td>1985-01-05</td>\n",
       "      <td>27.90</td>\n",
       "    </tr>\n",
       "    <tr>\n",
       "      <th>...</th>\n",
       "      <td>...</td>\n",
       "      <td>...</td>\n",
       "    </tr>\n",
       "    <tr>\n",
       "      <th>8</th>\n",
       "      <td>2020-01-09</td>\n",
       "      <td>28.58</td>\n",
       "    </tr>\n",
       "    <tr>\n",
       "      <th>9</th>\n",
       "      <td>2020-01-10</td>\n",
       "      <td>28.49</td>\n",
       "    </tr>\n",
       "    <tr>\n",
       "      <th>10</th>\n",
       "      <td>2020-01-11</td>\n",
       "      <td>28.45</td>\n",
       "    </tr>\n",
       "    <tr>\n",
       "      <th>11</th>\n",
       "      <td>2020-01-12</td>\n",
       "      <td>28.73</td>\n",
       "    </tr>\n",
       "    <tr>\n",
       "      <th>12</th>\n",
       "      <td>2020-01-13</td>\n",
       "      <td>28.79</td>\n",
       "    </tr>\n",
       "  </tbody>\n",
       "</table>\n",
       "<p>104 rows × 2 columns</p>\n",
       "</div>"
      ],
      "text/plain": [
       "          time   sst1\n",
       "0   1985-01-01  26.59\n",
       "1   1985-01-02  26.30\n",
       "2   1985-01-03  26.34\n",
       "3   1985-01-04  27.63\n",
       "4   1985-01-05  27.90\n",
       "..         ...    ...\n",
       "8   2020-01-09  28.58\n",
       "9   2020-01-10  28.49\n",
       "10  2020-01-11  28.45\n",
       "11  2020-01-12  28.73\n",
       "12  2020-01-13  28.79\n",
       "\n",
       "[104 rows x 2 columns]"
      ]
     },
     "execution_count": 16,
     "metadata": {},
     "output_type": "execute_result"
    }
   ],
   "source": [
    "df1"
   ]
  },
  {
   "cell_type": "markdown",
   "id": "45a28116",
   "metadata": {},
   "source": [
    "**Station2** Sea Surface Temperature (SST) every 5 years from 1985 to 2020"
   ]
  },
  {
   "cell_type": "code",
   "execution_count": 18,
   "id": "0e5f5533",
   "metadata": {},
   "outputs": [],
   "source": [
    "a2 = dfa[[\"time\", \"sst2\"]]\n",
    "b2 = dfb[[\"time\", \"sst2\"]]\n",
    "c2 = dfc[[\"time\", \"sst2\"]]\n",
    "d2 = dfd[[\"time\", \"sst2\"]]\n",
    "e2 = dfe[[\"time\", \"sst2\"]]\n",
    "f2 = dff[[\"time\", \"sst2\"]]\n",
    "g2 = dfg[[\"time\", \"sst2\"]]\n",
    "h2 = dfh[[\"time\", \"sst2\"]]\n"
   ]
  },
  {
   "cell_type": "code",
   "execution_count": 19,
   "id": "7b0ba27f",
   "metadata": {},
   "outputs": [],
   "source": [
    "df2= pd.concat([a2, b2, c2, d2, e2, f2, g2, h2], sort=False)"
   ]
  },
  {
   "cell_type": "code",
   "execution_count": 20,
   "id": "8c356d56",
   "metadata": {},
   "outputs": [
    {
     "data": {
      "text/html": [
       "<div>\n",
       "<style scoped>\n",
       "    .dataframe tbody tr th:only-of-type {\n",
       "        vertical-align: middle;\n",
       "    }\n",
       "\n",
       "    .dataframe tbody tr th {\n",
       "        vertical-align: top;\n",
       "    }\n",
       "\n",
       "    .dataframe thead th {\n",
       "        text-align: right;\n",
       "    }\n",
       "</style>\n",
       "<table border=\"1\" class=\"dataframe\">\n",
       "  <thead>\n",
       "    <tr style=\"text-align: right;\">\n",
       "      <th></th>\n",
       "      <th>time</th>\n",
       "      <th>sst2</th>\n",
       "    </tr>\n",
       "  </thead>\n",
       "  <tbody>\n",
       "    <tr>\n",
       "      <th>0</th>\n",
       "      <td>1985-01-01</td>\n",
       "      <td>26.59</td>\n",
       "    </tr>\n",
       "    <tr>\n",
       "      <th>1</th>\n",
       "      <td>1985-01-02</td>\n",
       "      <td>26.30</td>\n",
       "    </tr>\n",
       "    <tr>\n",
       "      <th>2</th>\n",
       "      <td>1985-01-03</td>\n",
       "      <td>26.34</td>\n",
       "    </tr>\n",
       "    <tr>\n",
       "      <th>3</th>\n",
       "      <td>1985-01-04</td>\n",
       "      <td>27.63</td>\n",
       "    </tr>\n",
       "    <tr>\n",
       "      <th>4</th>\n",
       "      <td>1985-01-05</td>\n",
       "      <td>27.90</td>\n",
       "    </tr>\n",
       "    <tr>\n",
       "      <th>...</th>\n",
       "      <td>...</td>\n",
       "      <td>...</td>\n",
       "    </tr>\n",
       "    <tr>\n",
       "      <th>8</th>\n",
       "      <td>2020-01-09</td>\n",
       "      <td>28.58</td>\n",
       "    </tr>\n",
       "    <tr>\n",
       "      <th>9</th>\n",
       "      <td>2020-01-10</td>\n",
       "      <td>28.49</td>\n",
       "    </tr>\n",
       "    <tr>\n",
       "      <th>10</th>\n",
       "      <td>2020-01-11</td>\n",
       "      <td>28.45</td>\n",
       "    </tr>\n",
       "    <tr>\n",
       "      <th>11</th>\n",
       "      <td>2020-01-12</td>\n",
       "      <td>28.73</td>\n",
       "    </tr>\n",
       "    <tr>\n",
       "      <th>12</th>\n",
       "      <td>2020-01-13</td>\n",
       "      <td>28.79</td>\n",
       "    </tr>\n",
       "  </tbody>\n",
       "</table>\n",
       "<p>104 rows × 2 columns</p>\n",
       "</div>"
      ],
      "text/plain": [
       "          time   sst2\n",
       "0   1985-01-01  26.59\n",
       "1   1985-01-02  26.30\n",
       "2   1985-01-03  26.34\n",
       "3   1985-01-04  27.63\n",
       "4   1985-01-05  27.90\n",
       "..         ...    ...\n",
       "8   2020-01-09  28.58\n",
       "9   2020-01-10  28.49\n",
       "10  2020-01-11  28.45\n",
       "11  2020-01-12  28.73\n",
       "12  2020-01-13  28.79\n",
       "\n",
       "[104 rows x 2 columns]"
      ]
     },
     "execution_count": 20,
     "metadata": {},
     "output_type": "execute_result"
    }
   ],
   "source": [
    "df2"
   ]
  },
  {
   "cell_type": "markdown",
   "id": "05d73e69",
   "metadata": {},
   "source": [
    "**Station3** Sea Surface Temperature (SST) every 5 years from 1985 to 2020"
   ]
  },
  {
   "cell_type": "code",
   "execution_count": 23,
   "id": "74515ced",
   "metadata": {},
   "outputs": [],
   "source": [
    "a3 = dfa[[\"time\", \"sst3\"]]\n",
    "b3 = dfb[[\"time\", \"sst3\"]]\n",
    "c3 = dfc[[\"time\", \"sst3\"]]\n",
    "d3 = dfd[[\"time\", \"sst3\"]]\n",
    "e3 = dfe[[\"time\", \"sst3\"]]\n",
    "f3 = dff[[\"time\", \"sst3\"]]\n",
    "g3 = dfg[[\"time\", \"sst3\"]]\n",
    "h3 = dfh[[\"time\", \"sst3\"]]"
   ]
  },
  {
   "cell_type": "code",
   "execution_count": 24,
   "id": "5b0f04ef",
   "metadata": {},
   "outputs": [],
   "source": [
    "df3= pd.concat([a3, b3, c3, d3, e3, f3, g3, h3], sort=False)"
   ]
  },
  {
   "cell_type": "markdown",
   "id": "0a401abb",
   "metadata": {},
   "source": [
    "**Station4** Sea Surface Temperature (SST) every 5 years from 1985 to 2020"
   ]
  },
  {
   "cell_type": "code",
   "execution_count": 27,
   "id": "96cc1cf2",
   "metadata": {},
   "outputs": [],
   "source": [
    "a4 = dfa[[\"time\", \"sst4\"]]\n",
    "b4 = dfb[[\"time\", \"sst4\"]]\n",
    "c4 = dfc[[\"time\", \"sst4\"]]\n",
    "d4 = dfd[[\"time\", \"sst4\"]]\n",
    "e4 = dfe[[\"time\", \"sst4\"]]\n",
    "f4 = dff[[\"time\", \"sst4\"]]\n",
    "g4 = dfg[[\"time\", \"sst4\"]]\n",
    "h4 = dfh[[\"time\", \"sst4\"]]"
   ]
  },
  {
   "cell_type": "code",
   "execution_count": 28,
   "id": "8e479176",
   "metadata": {},
   "outputs": [],
   "source": [
    "df4= pd.concat([a4, b4, c4, d4, e4, f4, g4, h4], sort=False)"
   ]
  },
  {
   "cell_type": "markdown",
   "id": "ba117683",
   "metadata": {},
   "source": [
    "**Station5** Sea Surface Temperature (SST) every 5 years from 1985 to 2020"
   ]
  },
  {
   "cell_type": "code",
   "execution_count": 30,
   "id": "c9a33d3c",
   "metadata": {},
   "outputs": [],
   "source": [
    "a5 = dfa[[\"time\", \"sst5\"]]\n",
    "b5 = dfb[[\"time\", \"sst5\"]]\n",
    "c5 = dfc[[\"time\", \"sst5\"]]\n",
    "d5 = dfd[[\"time\", \"sst5\"]]\n",
    "e5 = dfe[[\"time\", \"sst5\"]]\n",
    "f5 = dff[[\"time\", \"sst5\"]]\n",
    "g5 = dfg[[\"time\", \"sst5\"]]\n",
    "h5 = dfh[[\"time\", \"sst5\"]]"
   ]
  },
  {
   "cell_type": "code",
   "execution_count": 31,
   "id": "69460e29",
   "metadata": {},
   "outputs": [],
   "source": [
    "df5= pd.concat([a5, b5, c5, d5, e5, f5, g5, h5], sort=False)"
   ]
  },
  {
   "cell_type": "markdown",
   "id": "f0766df9",
   "metadata": {},
   "source": [
    "**Station6** Sea Surface Temperature (SST) every 5 years from 1985 to 2020"
   ]
  },
  {
   "cell_type": "code",
   "execution_count": 33,
   "id": "38fb8179",
   "metadata": {},
   "outputs": [],
   "source": [
    "a6 = dfa[[\"time\", \"sst6\"]]\n",
    "b6 = dfb[[\"time\", \"sst6\"]]\n",
    "c6 = dfc[[\"time\", \"sst6\"]]\n",
    "d6 = dfd[[\"time\", \"sst6\"]]\n",
    "e6 = dfe[[\"time\", \"sst6\"]]\n",
    "f6 = dff[[\"time\", \"sst6\"]]\n",
    "g6 = dfg[[\"time\", \"sst6\"]]\n",
    "h6 = dfh[[\"time\", \"sst6\"]]"
   ]
  },
  {
   "cell_type": "code",
   "execution_count": 34,
   "id": "0a02f44d",
   "metadata": {},
   "outputs": [],
   "source": [
    "df6= pd.concat([a6, b6, c6, d6, e6, f6, g6, h6], sort=False)"
   ]
  },
  {
   "cell_type": "markdown",
   "id": "a368df95",
   "metadata": {},
   "source": [
    "**Station7** Sea Surface Temperature (SST) every 5 years from 1985 to 2020"
   ]
  },
  {
   "cell_type": "code",
   "execution_count": 36,
   "id": "0666e7ee",
   "metadata": {},
   "outputs": [],
   "source": [
    "a7 = dfa[[\"time\", \"sst7\"]]\n",
    "b7 = dfb[[\"time\", \"sst7\"]]\n",
    "c7 = dfc[[\"time\", \"sst7\"]]\n",
    "d7 = dfd[[\"time\", \"sst7\"]]\n",
    "e7 = dfe[[\"time\", \"sst7\"]]\n",
    "f7 = dff[[\"time\", \"sst7\"]]\n",
    "g7 = dfg[[\"time\", \"sst7\"]]\n",
    "h7 = dfh[[\"time\", \"sst7\"]]"
   ]
  },
  {
   "cell_type": "code",
   "execution_count": 37,
   "id": "11c4422f",
   "metadata": {},
   "outputs": [],
   "source": [
    "df7= pd.concat([a7, b7, c7, d7, e7, f7, g7, h7], sort=False)"
   ]
  },
  {
   "cell_type": "markdown",
   "id": "9fc9578f",
   "metadata": {},
   "source": [
    "**Station8** Sea Surface Temperature (SST) every 5 years from 1985 to 2020"
   ]
  },
  {
   "cell_type": "code",
   "execution_count": 39,
   "id": "9c3fbf21",
   "metadata": {},
   "outputs": [],
   "source": [
    "a8 = dfa[[\"time\", \"sst8\"]]\n",
    "b8 = dfb[[\"time\", \"sst8\"]]\n",
    "c8 = dfc[[\"time\", \"sst8\"]]\n",
    "d8 = dfd[[\"time\", \"sst8\"]]\n",
    "e8 = dfe[[\"time\", \"sst8\"]]\n",
    "f8 = dff[[\"time\", \"sst8\"]]\n",
    "g8 = dfg[[\"time\", \"sst8\"]]\n",
    "h8 = dfh[[\"time\", \"sst8\"]]"
   ]
  },
  {
   "cell_type": "code",
   "execution_count": 40,
   "id": "3b8c40d8",
   "metadata": {},
   "outputs": [],
   "source": [
    "df8 = pd.concat([a8, b8, c8, d8, e8, f8, g8, h8], sort=False)"
   ]
  },
  {
   "cell_type": "markdown",
   "id": "f2e1b229",
   "metadata": {},
   "source": [
    "**Station9** Sea Surface Temperature (SST) every 5 years from 1985 to 2020"
   ]
  },
  {
   "cell_type": "code",
   "execution_count": 42,
   "id": "4cc83355",
   "metadata": {},
   "outputs": [],
   "source": [
    "a9 = dfa[[\"time\", \"sst9\"]]\n",
    "b9 = dfb[[\"time\", \"sst9\"]]\n",
    "c9 = dfc[[\"time\", \"sst9\"]]\n",
    "d9 = dfd[[\"time\", \"sst9\"]]\n",
    "e9 = dfe[[\"time\", \"sst9\"]]\n",
    "f9 = dff[[\"time\", \"sst9\"]]\n",
    "g9 = dfg[[\"time\", \"sst9\"]]\n",
    "h9 = dfh[[\"time\", \"sst9\"]]"
   ]
  },
  {
   "cell_type": "code",
   "execution_count": 43,
   "id": "a4f0f570",
   "metadata": {},
   "outputs": [],
   "source": [
    "df9 = pd.concat([a9, b9, c9, d9, e9, f9, g9, h9], sort=False)"
   ]
  },
  {
   "cell_type": "markdown",
   "id": "f29bb11d",
   "metadata": {},
   "source": [
    "**Station10** Sea Surface Temperature (SST) every 5 years from 1985 to 2020"
   ]
  },
  {
   "cell_type": "code",
   "execution_count": 45,
   "id": "ef2d50f8",
   "metadata": {},
   "outputs": [],
   "source": [
    "a10 = dfa[[\"time\", \"sst10\"]]\n",
    "b10 = dfb[[\"time\", \"sst10\"]]\n",
    "c10 = dfc[[\"time\", \"sst10\"]]\n",
    "d10 = dfd[[\"time\", \"sst10\"]]\n",
    "e10 = dfe[[\"time\", \"sst10\"]]\n",
    "f10 = dff[[\"time\", \"sst10\"]]\n",
    "g10 = dfg[[\"time\", \"sst10\"]]\n",
    "h10 = dfh[[\"time\", \"sst10\"]]"
   ]
  },
  {
   "cell_type": "code",
   "execution_count": 46,
   "id": "f3bb154b",
   "metadata": {},
   "outputs": [],
   "source": [
    "df10 = pd.concat([a10, b10, c10, d10, e10, f10, g10, h10], sort=False)"
   ]
  },
  {
   "cell_type": "markdown",
   "id": "9399c4a0",
   "metadata": {},
   "source": [
    "**Station11** Sea Surface Temperature (SST) every 5 years from 1985 to 2020"
   ]
  },
  {
   "cell_type": "code",
   "execution_count": 48,
   "id": "d2459526",
   "metadata": {},
   "outputs": [],
   "source": [
    "a11 = dfa[[\"time\", \"sst11\"]]\n",
    "b11 = dfb[[\"time\", \"sst11\"]]\n",
    "c11 = dfc[[\"time\", \"sst11\"]]\n",
    "d11 = dfd[[\"time\", \"sst11\"]]\n",
    "e11 = dfe[[\"time\", \"sst11\"]]\n",
    "f11 = dff[[\"time\", \"sst11\"]]\n",
    "g11 = dfg[[\"time\", \"sst11\"]]\n",
    "h11 = dfh[[\"time\", \"sst11\"]]"
   ]
  },
  {
   "cell_type": "code",
   "execution_count": 49,
   "id": "f4067675",
   "metadata": {},
   "outputs": [],
   "source": [
    "df11 = pd.concat([a11, b11, c11, d11, e11, f11, g11, h11], sort=False)"
   ]
  },
  {
   "cell_type": "code",
   "execution_count": null,
   "id": "986eb800",
   "metadata": {},
   "outputs": [],
   "source": []
  }
 ],
 "metadata": {
  "kernelspec": {
   "display_name": "Python 3 (ipykernel)",
   "language": "python",
   "name": "python3"
  },
  "language_info": {
   "codemirror_mode": {
    "name": "ipython",
    "version": 3
   },
   "file_extension": ".py",
   "mimetype": "text/x-python",
   "name": "python",
   "nbconvert_exporter": "python",
   "pygments_lexer": "ipython3",
   "version": "3.8.8"
  }
 },
 "nbformat": 4,
 "nbformat_minor": 5
}
