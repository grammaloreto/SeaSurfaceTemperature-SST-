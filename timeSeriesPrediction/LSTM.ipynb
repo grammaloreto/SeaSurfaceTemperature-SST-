{
 "cells": [
  {
   "cell_type": "code",
   "execution_count": 1,
   "id": "97d6963f",
   "metadata": {},
   "outputs": [],
   "source": [
    "import numpy as np\n",
    "import matplotlib.pyplot as plt\n",
    "import pandas as pd\n",
    "import torch\n",
    "import torch.nn as nn\n",
    "from torch.autograd import Variable\n",
    "from sklearn.preprocessing import MinMaxScaler"
   ]
  },
  {
   "cell_type": "markdown",
   "id": "4895b5bc",
   "metadata": {},
   "source": [
    "Implementing a **LSTM Neural Network** capable to predict the temperature \"behavior\" of a marine protected area with high coral coverage.   "
   ]
  },
  {
   "cell_type": "markdown",
   "id": "4716564e",
   "metadata": {},
   "source": [
    "## Ploting SST data (inputs)"
   ]
  },
  {
   "cell_type": "code",
   "execution_count": 2,
   "id": "d64ca9c3",
   "metadata": {},
   "outputs": [
    {
     "data": {
      "image/png": "[encoded data removed]",
      "text/plain": [
       "<Figure size 432x288 with 1 Axes>"
      ]
     },
     "metadata": {
      "needs_background": "light"
     },
     "output_type": "display_data"
    }
   ],
   "source": [
    "training_set = pd.read_csv('df1.csv')\n",
    "\n",
    "training_set = training_set.iloc[:,1:2].values\n",
    "\n",
    "plt.plot(training_set)\n",
    "plt.suptitle('Sea Surface Temperature Time-Series 1985-2020 st.1')\n",
    "plt.show()"
   ]
  },
  {
   "cell_type": "code",
   "execution_count": 3,
   "id": "ac15cd3a",
   "metadata": {},
   "outputs": [
    {
     "data": {
      "text/plain": [
       "array([[26.59],\n",
       "       [26.3 ],\n",
       "       [26.34],\n",
       "       [27.63],\n",
       "       [27.9 ],\n",
       "       [27.17],\n",
       "       [26.57],\n",
       "       [26.69],\n",
       "       [26.51],\n",
       "       [26.43],\n",
       "       [26.43],\n",
       "       [26.43],\n",
       "       [26.38],\n",
       "       [27.4 ],\n",
       "       [27.37],\n",
       "       [27.54],\n",
       "       [28.14],\n",
       "       [28.04],\n",
       "       [27.87],\n",
       "       [27.96],\n",
       "       [27.94],\n",
       "       [27.9 ],\n",
       "       [27.95],\n",
       "       [27.95],\n",
       "       [27.86],\n",
       "       [27.45],\n",
       "       [27.57],\n",
       "       [27.63],\n",
       "       [27.71],\n",
       "       [27.59],\n",
       "       [27.63],\n",
       "       [27.73],\n",
       "       [27.87],\n",
       "       [27.62],\n",
       "       [27.75],\n",
       "       [27.83],\n",
       "       [27.82],\n",
       "       [27.6 ],\n",
       "       [27.67],\n",
       "       [27.15],\n",
       "       [27.5 ],\n",
       "       [27.48],\n",
       "       [27.6 ],\n",
       "       [28.34],\n",
       "       [28.35],\n",
       "       [28.19],\n",
       "       [27.73],\n",
       "       [27.54],\n",
       "       [27.55],\n",
       "       [27.7 ],\n",
       "       [27.9 ],\n",
       "       [28.06],\n",
       "       [28.33],\n",
       "       [28.37],\n",
       "       [28.25],\n",
       "       [27.94],\n",
       "       [28.  ],\n",
       "       [28.36],\n",
       "       [28.57],\n",
       "       [28.54],\n",
       "       [28.49],\n",
       "       [28.39],\n",
       "       [28.2 ],\n",
       "       [27.97],\n",
       "       [27.9 ],\n",
       "       [28.44],\n",
       "       [28.22],\n",
       "       [28.3 ],\n",
       "       [28.16],\n",
       "       [28.15],\n",
       "       [28.21],\n",
       "       [28.39],\n",
       "       [28.5 ],\n",
       "       [28.81],\n",
       "       [28.63],\n",
       "       [28.22],\n",
       "       [28.08],\n",
       "       [28.08],\n",
       "       [28.55],\n",
       "       [28.44],\n",
       "       [28.47],\n",
       "       [28.37],\n",
       "       [28.17],\n",
       "       [27.97],\n",
       "       [27.9 ],\n",
       "       [28.12],\n",
       "       [28.12],\n",
       "       [28.18],\n",
       "       [28.  ],\n",
       "       [27.99],\n",
       "       [28.12],\n",
       "       [28.57],\n",
       "       [28.73],\n",
       "       [28.87],\n",
       "       [29.04],\n",
       "       [28.95],\n",
       "       [28.81],\n",
       "       [28.75],\n",
       "       [28.63],\n",
       "       [28.58],\n",
       "       [28.49],\n",
       "       [28.45],\n",
       "       [28.73],\n",
       "       [28.79]])"
      ]
     },
     "execution_count": 3,
     "metadata": {},
     "output_type": "execute_result"
    }
   ],
   "source": [
    "training_set # temperatures"
   ]
  },
  {
   "cell_type": "markdown",
   "id": "273542dc",
   "metadata": {},
   "source": [
    "## Training-Test Data/Tensors"
   ]
  },
  {
   "cell_type": "code",
   "execution_count": 4,
   "id": "fc770c43",
   "metadata": {},
   "outputs": [],
   "source": [
    "def sliding_windows(data, seq_length):\n",
    "    x = []\n",
    "    y = []\n",
    "\n",
    "    for i in range(len(data)-seq_length-1):\n",
    "        _x = data[i:(i+seq_length)]\n",
    "        _y = data[i+seq_length]\n",
    "        x.append(_x)\n",
    "        y.append(_y)\n",
    "\n",
    "    return np.array(x),np.array(y)\n",
    "\n",
    "#transform time series to scale\n",
    "sc = MinMaxScaler()\n",
    "training_data = sc.fit_transform(training_set)\n",
    "\n",
    "seq_length = 4\n",
    "x, y = sliding_windows(training_data, seq_length)\n",
    "\n",
    "#training and test data sizes\n",
    "train_size = int(len(y) * 0.70)\n",
    "test_size = len(y) - train_size\n",
    "\n",
    "#Tensors\n",
    "dataX = Variable(torch.Tensor(np.array(x)))\n",
    "dataY = Variable(torch.Tensor(np.array(y)))\n",
    "\n",
    "trainX = Variable(torch.Tensor(np.array(x[0:train_size])))\n",
    "trainY = Variable(torch.Tensor(np.array(y[0:train_size])))\n",
    "\n",
    "testX = Variable(torch.Tensor(np.array(x[train_size:len(x)])))\n",
    "testY = Variable(torch.Tensor(np.array(y[train_size:len(y)])))"
   ]
  },
  {
   "cell_type": "markdown",
   "id": "90bf3a67",
   "metadata": {},
   "source": [
    "## LSTM model"
   ]
  },
  {
   "cell_type": "code",
   "execution_count": 5,
   "id": "2c593eed",
   "metadata": {},
   "outputs": [],
   "source": [
    "class LSTM(nn.Module):\n",
    "\n",
    "    def __init__(self, num_classes, input_size, hidden_size, num_layers):\n",
    "        super(LSTM, self).__init__()\n",
    "        \n",
    "        self.num_classes = num_classes\n",
    "        self.num_layers = num_layers\n",
    "        self.input_size = input_size\n",
    "        self.hidden_size = hidden_size\n",
    "        self.seq_length = seq_length\n",
    "        \n",
    "        self.lstm = nn.LSTM(input_size=input_size, hidden_size=hidden_size,\n",
    "                            num_layers=num_layers, batch_first=True)\n",
    "        \n",
    "        self.fc = nn.Linear(hidden_size, num_classes)\n",
    "\n",
    "    def forward(self, x):\n",
    "        h_0 = Variable(torch.zeros(\n",
    "            self.num_layers, x.size(0), self.hidden_size))\n",
    "        \n",
    "        c_0 = Variable(torch.zeros(\n",
    "            self.num_layers, x.size(0), self.hidden_size))\n",
    "        \n",
    "        # Propagate input through LSTM\n",
    "        ula, (h_out, _) = self.lstm(x, (h_0, c_0))\n",
    "        \n",
    "        h_out = h_out.view(-1, self.hidden_size)\n",
    "        \n",
    "        out = self.fc(h_out)\n",
    "        \n",
    "        return out\n"
   ]
  },
  {
   "cell_type": "markdown",
   "id": "35f82963",
   "metadata": {},
   "source": [
    "## Training - Loss ==> model accuracy"
   ]
  },
  {
   "cell_type": "code",
   "execution_count": 6,
   "id": "21d47a80",
   "metadata": {},
   "outputs": [
    {
     "name": "stdout",
     "output_type": "stream",
     "text": [
      "Epoch: 0, loss: 0.04322\n",
      "Epoch: 100, loss: 0.01070\n",
      "Epoch: 200, loss: 0.00888\n",
      "Epoch: 300, loss: 0.00883\n",
      "Epoch: 400, loss: 0.00877\n",
      "Epoch: 500, loss: 0.00861\n",
      "Epoch: 600, loss: 0.00825\n",
      "Epoch: 700, loss: 0.00730\n",
      "Epoch: 800, loss: 0.00686\n",
      "Epoch: 900, loss: 0.00664\n",
      "Epoch: 1000, loss: 0.00634\n",
      "Epoch: 1100, loss: 0.00598\n",
      "Epoch: 1200, loss: 0.00561\n",
      "Epoch: 1300, loss: 0.00534\n",
      "Epoch: 1400, loss: 0.00511\n",
      "Epoch: 1500, loss: 0.00494\n",
      "Epoch: 1600, loss: 0.00475\n",
      "Epoch: 1700, loss: 0.00466\n",
      "Epoch: 1800, loss: 0.00460\n",
      "Epoch: 1900, loss: 0.00455\n"
     ]
    }
   ],
   "source": [
    "num_epochs = 2000\n",
    "learning_rate = 0.01\n",
    "\n",
    "input_size = 1\n",
    "hidden_size = 2\n",
    "num_layers = 1\n",
    "\n",
    "num_classes = 1\n",
    "\n",
    "lstm = LSTM(num_classes, input_size, hidden_size, num_layers)\n",
    "\n",
    "criterion = torch.nn.MSELoss()    # mean-squared error for regression\n",
    "optimizer = torch.optim.Adam(lstm.parameters(), lr=learning_rate)\n",
    "#optimizer = torch.optim.SGD(lstm.parameters(), lr=learning_rate)\n",
    "\n",
    "# Training the model\n",
    "for epoch in range(num_epochs):\n",
    "    outputs = lstm(trainX)\n",
    "    optimizer.zero_grad()\n",
    "    \n",
    "    # loss function\n",
    "    loss = criterion(outputs, trainY)\n",
    "    \n",
    "    loss.backward()\n",
    "    \n",
    "    optimizer.step()\n",
    "    if epoch % 100 == 0:\n",
    "      print(\"Epoch: %d, loss: %1.5f\" % (epoch, loss.item()))"
   ]
  },
  {
   "cell_type": "markdown",
   "id": "29e5ded8",
   "metadata": {},
   "source": [
    "## Observed vs Predicted values"
   ]
  },
  {
   "cell_type": "code",
   "execution_count": 7,
   "id": "af137965",
   "metadata": {},
   "outputs": [
    {
     "data": {
      "image/png": "[encoded data removed]",
      "text/plain": [
       "<Figure size 432x288 with 1 Axes>"
      ]
     },
     "metadata": {
      "needs_background": "light"
     },
     "output_type": "display_data"
    }
   ],
   "source": [
    "#Preparing validation(test) data for the prediction \n",
    "lstm.eval()\n",
    "train_predict = lstm(dataX)\n",
    "\n",
    "data_predict = train_predict.data.numpy()\n",
    "dataY_plot = dataY.data.numpy()\n",
    "\n",
    "# transformation-normalization\n",
    "data_predict = sc.inverse_transform(data_predict)\n",
    "dataY_plot = sc.inverse_transform(dataY_plot)\n",
    "\n",
    "# plot\n",
    "plt.axvline(x=train_size, c='r', linestyle='--')\n",
    "\n",
    "plt.plot(dataY_plot, label = 'Observed')\n",
    "plt.plot(data_predict, label = 'Predicted')\n",
    "plt.suptitle('Time-Series SST St.1')\n",
    "plt.legend()\n",
    "plt.savefig('time-series-st1.png', dpi=100)\n",
    "plt.show()"
   ]
  },
  {
   "cell_type": "code",
   "execution_count": null,
   "id": "af2d54fc",
   "metadata": {},
   "outputs": [],
   "source": []
  }
 ],
 "metadata": {
  "kernelspec": {
   "display_name": "Python 3 (ipykernel)",
   "language": "python",
   "name": "python3"
  },
  "language_info": {
   "codemirror_mode": {
    "name": "ipython",
    "version": 3
   },
   "file_extension": ".py",
   "mimetype": "text/x-python",
   "name": "python",
   "nbconvert_exporter": "python",
   "pygments_lexer": "ipython3",
   "version": "3.8.8"
  }
 },
 "nbformat": 4,
 "nbformat_minor": 5
}
